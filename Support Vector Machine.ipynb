{
 "cells": [
  {
   "cell_type": "code",
   "execution_count": 34,
   "id": "789788a2",
   "metadata": {},
   "outputs": [],
   "source": [
    "import csv\n",
    "import numpy as np\n",
    "import pandas as pd\n",
    "from sklearn.svm import SVR\n",
    "from sklearn.preprocessing import StandardScaler"
   ]
  },
  {
   "cell_type": "code",
   "execution_count": 35,
   "id": "4875f461",
   "metadata": {},
   "outputs": [],
   "source": [
    "g_open = [[1389]] #open value of today of google\n",
    "r_open = [[0.2017]] #open value of today of ripple"
   ]
  },
  {
   "cell_type": "code",
   "execution_count": 36,
   "id": "dcaa1379",
   "metadata": {},
   "outputs": [],
   "source": [
    "# Reading dataset of google stocks\n",
    "dataset1 = pd.read_csv(\"C:/Users/zizo/Desktop/GOOG.csv\")\n",
    "dataset1 = dataset1.dropna()\n",
    "X1=dataset1.iloc[: , 1:2].values\n",
    "y1=dataset1.iloc[: , 2:3].values"
   ]
  },
  {
   "cell_type": "code",
   "execution_count": 54,
   "id": "61776fe7",
   "metadata": {},
   "outputs": [],
   "source": [
    "# Reading dataset of Ripple stocks\n",
    "dataset2 = pd.read_csv(\"C:/Users/zizo/Desktop/XRP-USD.csv\")\n",
    "dataset2 = dataset2.dropna()\n",
    "X2=dataset2.iloc[: , 1:2].values\n",
    "y2=dataset2.iloc[: , 2:3].values"
   ]
  },
  {
   "cell_type": "code",
   "execution_count": 60,
   "id": "38badc0d",
   "metadata": {},
   "outputs": [],
   "source": [
    "#transforming dataset of google for Support Vector Regressor\n",
    "sc_X1 = StandardScaler()\n",
    "sc_y1 = StandardScaler()\n",
    "X1 = sc_X1.fit_transform(X1)\n",
    "y1 = y1.reshape(-1,1)\n",
    "y1 = sc_y1.fit_transform(y1)"
   ]
  },
  {
   "cell_type": "code",
   "execution_count": 61,
   "id": "a3ae3eb1",
   "metadata": {},
   "outputs": [],
   "source": [
    "#transforming dataset ripple for Support Vector Regressor\n",
    "sc_X2 = StandardScaler()\n",
    "sc_y2 = StandardScaler()\n",
    "X2 = sc_X2.fit_transform(X2)\n",
    "y2 = y2.reshape(-1,1)\n",
    "y2 = sc_y2.fit_transform(y2)"
   ]
  },
  {
   "cell_type": "code",
   "execution_count": 62,
   "id": "0742ac85",
   "metadata": {},
   "outputs": [
    {
     "name": "stdout",
     "output_type": "stream",
     "text": [
      "[1.1468082]\n"
     ]
    },
    {
     "name": "stderr",
     "output_type": "stream",
     "text": [
      "C:\\ProgramData\\Anaconda3\\lib\\site-packages\\sklearn\\utils\\validation.py:63: DataConversionWarning: A column-vector y was passed when a 1d array was expected. Please change the shape of y to (n_samples, ), for example using ravel().\n",
      "  return f(*args, **kwargs)\n"
     ]
    }
   ],
   "source": [
    "#Support Vector Regressor for google\n",
    "regressor1 = SVR(kernel='rbf', C=450, gamma=0.1, epsilon=.1)\n",
    "regressor1.fit(X1,y1)\n",
    "y_pred1 = regressor1.predict([[6.5]])\n",
    "y_pred1 = sc_y1.inverse_transform(y_pred1)\n",
    "print(y_pred1)"
   ]
  },
  {
   "cell_type": "code",
   "execution_count": 50,
   "id": "e20d5307",
   "metadata": {},
   "outputs": [
    {
     "name": "stdout",
     "output_type": "stream",
     "text": [
      "[0.79987728]\n"
     ]
    },
    {
     "name": "stderr",
     "output_type": "stream",
     "text": [
      "C:\\ProgramData\\Anaconda3\\lib\\site-packages\\sklearn\\utils\\validation.py:63: DataConversionWarning: A column-vector y was passed when a 1d array was expected. Please change the shape of y to (n_samples, ), for example using ravel().\n",
      "  return f(*args, **kwargs)\n"
     ]
    }
   ],
   "source": [
    "#Support Vector Regressor for ripple\n",
    "regressor2 = SVR(kernel='rbf', C=250, gamma=0.5, epsilon=.1)\n",
    "regressor2.fit(X2,y2)\n",
    "#y_pred2 = regressor2.predict(r_open)\n",
    "y_pred2 = regressor2.predict([[6.5]])\n",
    "y_pred2 = sc_y2.inverse_transform(y_pred2)\n",
    "print(y_pred2)"
   ]
  },
  {
   "cell_type": "code",
   "execution_count": null,
   "id": "55d7ad22",
   "metadata": {},
   "outputs": [],
   "source": []
  },
  {
   "cell_type": "code",
   "execution_count": null,
   "id": "61778732",
   "metadata": {},
   "outputs": [],
   "source": []
  }
 ],
 "metadata": {
  "kernelspec": {
   "display_name": "Python 3",
   "language": "python",
   "name": "python3"
  },
  "language_info": {
   "codemirror_mode": {
    "name": "ipython",
    "version": 3
   },
   "file_extension": ".py",
   "mimetype": "text/x-python",
   "name": "python",
   "nbconvert_exporter": "python",
   "pygments_lexer": "ipython3",
   "version": "3.8.8"
  }
 },
 "nbformat": 4,
 "nbformat_minor": 5
}
